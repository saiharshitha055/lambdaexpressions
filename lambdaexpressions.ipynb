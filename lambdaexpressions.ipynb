{
 "cells": [
  {
   "cell_type": "code",
   "execution_count": null,
   "id": "b91be710",
   "metadata": {},
   "outputs": [
    {
     "name": "stdout",
     "output_type": "stream",
     "text": [
      "7\n"
     ]
    }
   ],
   "source": [
    "#Lambda with Multiple Arguments\n",
    "add = lambda a, b: a + b\n",
    "print(add(3, 4))  \n"
   ]
  },
  {
   "cell_type": "code",
   "execution_count": null,
   "id": "8c04f99d",
   "metadata": {},
   "outputs": [
    {
     "name": "stdout",
     "output_type": "stream",
     "text": [
      "25\n",
      "25\n"
     ]
    }
   ],
   "source": [
    "# Traditional function\n",
    "def square(x):\n",
    "    return x * x\n",
    "\n",
    "# Equivalent lambda function\n",
    "square_lambda = lambda x: x * x\n",
    "\n",
    "print(square(5))         \n",
    "print(square_lambda(5))  \n"
   ]
  },
  {
   "cell_type": "code",
   "execution_count": null,
   "id": "a524f5de",
   "metadata": {},
   "outputs": [
    {
     "name": "stdout",
     "output_type": "stream",
     "text": [
      "[1, 4, 9, 16]\n"
     ]
    }
   ],
   "source": [
    "#Using Lambda with map()\n",
    "numbers = [1, 2, 3, 4]\n",
    "squares = list(map(lambda x: x ** 2, numbers))\n",
    "print(squares)  \n"
   ]
  },
  {
   "cell_type": "code",
   "execution_count": null,
   "id": "034243fa",
   "metadata": {},
   "outputs": [
    {
     "name": "stdout",
     "output_type": "stream",
     "text": [
      "[2, 4, 6]\n"
     ]
    }
   ],
   "source": [
    "#Using Lambda with filter()\n",
    "numbers = [1, 2, 3, 4, 5, 6]\n",
    "even_numbers = list(filter(lambda x: x % 2 == 0, numbers))\n",
    "print(even_numbers)\n"
   ]
  },
  {
   "cell_type": "code",
   "execution_count": null,
   "id": "c5aa335b",
   "metadata": {},
   "outputs": [
    {
     "name": "stdout",
     "output_type": "stream",
     "text": [
      "[('Bob', 20), ('Eve', 22), ('Alice', 25)]\n"
     ]
    }
   ],
   "source": [
    "#Using Lambda with sorted()\n",
    "students = [(\"Alice\", 25), (\"Bob\", 20), (\"Eve\", 22)]\n",
    "# Sort by age\n",
    "sorted_students = sorted(students, key=lambda x: x[1])\n",
    "print(sorted_students)  # Output: [('Bob', 20), ('Eve', 22), ('Alice', 25)]\n"
   ]
  }
 ],
 "metadata": {
  "kernelspec": {
   "display_name": "Python 3",
   "language": "python",
   "name": "python3"
  },
  "language_info": {
   "codemirror_mode": {
    "name": "ipython",
    "version": 3
   },
   "file_extension": ".py",
   "mimetype": "text/x-python",
   "name": "python",
   "nbconvert_exporter": "python",
   "pygments_lexer": "ipython3",
   "version": "3.8.4"
  }
 },
 "nbformat": 4,
 "nbformat_minor": 5
}
